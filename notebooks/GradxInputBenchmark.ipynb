{
 "cells": [
  {
   "cell_type": "markdown",
   "metadata": {},
   "source": [
    "# Grad x Input Benchmark"
   ]
  },
  {
   "cell_type": "code",
   "execution_count": 1,
   "metadata": {},
   "outputs": [],
   "source": [
    "import sys\n",
    "sys.path.append(\"../\")\n",
    "\n",
    "import fastISM\n",
    "from fastISM.models.basset import basset_model\n",
    "\n",
    "from fastISM.models.factorized_basset import factorized_basset_model\n",
    "from fastISM.models.bpnet import bpnet_model\n",
    "import tensorflow as tf\n",
    "import numpy as np\n",
    "from importlib import reload\n",
    "import time"
   ]
  },
  {
   "cell_type": "code",
   "execution_count": 2,
   "metadata": {},
   "outputs": [
    {
     "data": {
      "text/plain": [
       "<module 'fastISM' from '../fastISM/__init__.py'>"
      ]
     },
     "execution_count": 2,
     "metadata": {},
     "output_type": "execute_result"
    }
   ],
   "source": [
    "reload(fastISM.flatten_model)\n",
    "reload(fastISM.models)\n",
    "reload(fastISM.ism_base)\n",
    "reload(fastISM.change_range)\n",
    "reload(fastISM.fast_ism_utils)\n",
    "reload(fastISM)"
   ]
  },
  {
   "cell_type": "code",
   "execution_count": 3,
   "metadata": {},
   "outputs": [
    {
     "data": {
      "text/plain": [
       "'2.3.0'"
      ]
     },
     "execution_count": 3,
     "metadata": {},
     "output_type": "execute_result"
    }
   ],
   "source": [
    "tf.__version__"
   ]
  },
  {
   "cell_type": "code",
   "execution_count": 4,
   "metadata": {},
   "outputs": [
    {
     "name": "stdout",
     "output_type": "stream",
     "text": [
      "Tue Sep  8 09:09:35 2020       \n",
      "+-----------------------------------------------------------------------------+\n",
      "| NVIDIA-SMI 450.51.05    Driver Version: 450.51.05    CUDA Version: 11.0     |\n",
      "|-------------------------------+----------------------+----------------------+\n",
      "| GPU  Name        Persistence-M| Bus-Id        Disp.A | Volatile Uncorr. ECC |\n",
      "| Fan  Temp  Perf  Pwr:Usage/Cap|         Memory-Usage | GPU-Util  Compute M. |\n",
      "|                               |                      |               MIG M. |\n",
      "|===============================+======================+======================|\n",
      "|   0  Tesla P100-PCIE...  On   | 00000000:82:00.0 Off |                    0 |\n",
      "| N/A   30C    P0    27W / 250W |      0MiB / 16280MiB |      0%   E. Process |\n",
      "|                               |                      |                  N/A |\n",
      "+-------------------------------+----------------------+----------------------+\n",
      "                                                                               \n",
      "+-----------------------------------------------------------------------------+\n",
      "| Processes:                                                                  |\n",
      "|  GPU   GI   CI        PID   Type   Process name                  GPU Memory |\n",
      "|        ID   ID                                                   Usage      |\n",
      "|=============================================================================|\n",
      "|  No running processes found                                                 |\n",
      "+-----------------------------------------------------------------------------+\n"
     ]
    }
   ],
   "source": [
    "!nvidia-smi"
   ]
  },
  {
   "cell_type": "code",
   "execution_count": 5,
   "metadata": {},
   "outputs": [
    {
     "name": "stdout",
     "output_type": "stream",
     "text": [
      "GPU 0: Tesla P100-PCIE-16GB (UUID: GPU-0d9a859c-ce19-78f3-2f87-aade11d14bae)\n"
     ]
    }
   ],
   "source": [
    "!nvidia-smi -L"
   ]
  },
  {
   "cell_type": "code",
   "execution_count": 6,
   "metadata": {},
   "outputs": [
    {
     "name": "stdout",
     "output_type": "stream",
     "text": [
      "nvcc: NVIDIA (R) Cuda compiler driver\n",
      "Copyright (c) 2005-2019 NVIDIA Corporation\n",
      "Built on Wed_Apr_24_19:10:27_PDT_2019\n",
      "Cuda compilation tools, release 10.1, V10.1.168\n"
     ]
    }
   ],
   "source": [
    "!nvcc --version"
   ]
  },
  {
   "cell_type": "code",
   "execution_count": 7,
   "metadata": {},
   "outputs": [
    {
     "name": "stdout",
     "output_type": "stream",
     "text": [
      "Num GPUs Available:  1\n"
     ]
    }
   ],
   "source": [
    "print(\"Num GPUs Available: \", len(tf.config.experimental.list_physical_devices('GPU')))"
   ]
  },
  {
   "cell_type": "code",
   "execution_count": 8,
   "metadata": {},
   "outputs": [
    {
     "data": {
      "text/plain": [
       "'GPU:0'"
      ]
     },
     "execution_count": 8,
     "metadata": {},
     "output_type": "execute_result"
    }
   ],
   "source": [
    "device = 'GPU:0' if tf.config.experimental.list_physical_devices('GPU') else '/device:CPU:0'\n",
    "device"
   ]
  },
  {
   "cell_type": "markdown",
   "metadata": {},
   "source": [
    "## Benchmark"
   ]
  },
  {
   "cell_type": "markdown",
   "metadata": {},
   "source": [
    "### Basset/Factorized Basset"
   ]
  },
  {
   "cell_type": "code",
   "execution_count": 9,
   "metadata": {},
   "outputs": [],
   "source": [
    "BATCH_SIZES = [1,32,64,128,256]"
   ]
  },
  {
   "cell_type": "code",
   "execution_count": 10,
   "metadata": {},
   "outputs": [
    {
     "name": "stdout",
     "output_type": "stream",
     "text": [
      "\n",
      "------------------\n",
      "MODEL: <function basset_model at 0x7fe080533b90>\n",
      "SEQLEN: 1000\n",
      "BATCH SIZE: 1\tTIME: 0.03\tPER 100: 2.54\n",
      "BATCH SIZE: 32\tTIME: 0.02\tPER 100: 0.06\n",
      "BATCH SIZE: 64\tTIME: 0.03\tPER 100: 0.05\n",
      "BATCH SIZE: 128\tTIME: 0.05\tPER 100: 0.04\n",
      "BATCH SIZE: 256\tTIME: 0.10\tPER 100: 0.04\n",
      "BEST PER 100: 0.04\n",
      "\n",
      "------------------\n",
      "MODEL: <function basset_model at 0x7fe080533b90>\n",
      "SEQLEN: 2000\n",
      "BATCH SIZE: 1\tTIME: 0.01\tPER 100: 1.26\n",
      "BATCH SIZE: 32\tTIME: 0.03\tPER 100: 0.09\n",
      "BATCH SIZE: 64\tTIME: 0.05\tPER 100: 0.08\n",
      "BATCH SIZE: 128\tTIME: 0.10\tPER 100: 0.08\n",
      "BATCH SIZE: 256\tTIME: 0.20\tPER 100: 0.08\n",
      "BEST PER 100: 0.08\n",
      "\n",
      "------------------\n",
      "MODEL: <function factorized_basset_model at 0x7fe080533c20>\n",
      "SEQLEN: 1000\n",
      "BATCH SIZE: 1\tTIME: 0.03\tPER 100: 2.78\n",
      "BATCH SIZE: 32\tTIME: 0.04\tPER 100: 0.13\n",
      "BATCH SIZE: 64\tTIME: 0.06\tPER 100: 0.10\n",
      "BATCH SIZE: 128\tTIME: 0.12\tPER 100: 0.09\n",
      "BATCH SIZE: 256\tTIME: 0.23\tPER 100: 0.09\n",
      "BEST PER 100: 0.09\n",
      "\n",
      "------------------\n",
      "MODEL: <function factorized_basset_model at 0x7fe080533c20>\n",
      "SEQLEN: 2000\n",
      "BATCH SIZE: 1\tTIME: 0.03\tPER 100: 2.74\n",
      "BATCH SIZE: 32\tTIME: 0.06\tPER 100: 0.20\n",
      "BATCH SIZE: 64\tTIME: 0.12\tPER 100: 0.18\n",
      "BATCH SIZE: 128\tTIME: 0.22\tPER 100: 0.18\n",
      "BATCH SIZE: 256\tTIME: 0.45\tPER 100: 0.17\n",
      "BEST PER 100: 0.17\n"
     ]
    }
   ],
   "source": [
    "# shap_values most likely internally creates a batch for each example\n",
    "# thus time per 100 examples stays near constant with batch size\n",
    "\n",
    "NUM_TO_AVG = 100\n",
    "\n",
    "for model_type in [basset_model, factorized_basset_model]:\n",
    "    for seqlen in [1000, 2000]:\n",
    "        print(\"\\n------------------\")\n",
    "        print(\"MODEL: {}\".format(model_type))\n",
    "        print(\"SEQLEN: {}\".format(seqlen))\n",
    "        model = model_type(seqlen=seqlen, num_outputs=1)\n",
    "        \n",
    "        # dry run \n",
    "        p = model(np.random.random((10,seqlen,4)))\n",
    "        \n",
    "        times = []\n",
    "        per_100 = []\n",
    "        for b in BATCH_SIZES:\n",
    "            tot = 0\n",
    "            for i in range(NUM_TO_AVG):\n",
    "                x = np.random.random((b,seqlen,4))\n",
    "                \n",
    "                t = time.time()\n",
    "                x = tf.constant(x)\n",
    "                with tf.GradientTape() as tape:\n",
    "                    tape.watch(x)\n",
    "                    pred = model(x)\n",
    "                g = (x*tape.gradient(pred, x)).numpy()\n",
    "                \n",
    "                tot+= time.time() - t\n",
    "                \n",
    "            times.append(tot/NUM_TO_AVG)\n",
    "            per_100.append((times[-1]/b)*100)\n",
    "            print(\"BATCH SIZE: {}\\tTIME: {:.2f}\\tPER 100: {:.2f}\".format(b, times[-1], (times[-1]/b)*100))\n",
    "        \n",
    "        print(\"BEST PER 100: {:.2f}\".format(min(per_100)))"
   ]
  },
  {
   "cell_type": "markdown",
   "metadata": {},
   "source": [
    "### BPNet"
   ]
  },
  {
   "cell_type": "code",
   "execution_count": 17,
   "metadata": {},
   "outputs": [],
   "source": [
    "BATCH_SIZES = [64, 128]"
   ]
  },
  {
   "cell_type": "code",
   "execution_count": 18,
   "metadata": {},
   "outputs": [
    {
     "name": "stdout",
     "output_type": "stream",
     "text": [
      "\n",
      "------------------\n",
      "SEQLEN: 1000\n",
      "BATCH SIZE: 64\tTIME: 27.25\tPER 100: 42.58\n",
      "BATCH SIZE: 128\tTIME: 54.40\tPER 100: 42.50\n",
      "BEST PER 100: 42.50\n",
      "\n",
      "------------------\n",
      "SEQLEN: 2000\n",
      "BATCH SIZE: 64\tTIME: 80.90\tPER 100: 126.41\n",
      "BATCH SIZE: 128\tTIME: 164.60\tPER 100: 128.60\n",
      "BEST PER 100: 126.41\n"
     ]
    }
   ],
   "source": [
    "for seqlen in [1000, 2000]:\n",
    "    print(\"\\n------------------\")\n",
    "    print(\"SEQLEN: {}\".format(seqlen))\n",
    "    model = bpnet_model(seqlen=seqlen, num_dilated_convs=9)\n",
    "\n",
    "    # run explainers for each position\n",
    "    times = []\n",
    "    per_100 = []\n",
    "\n",
    "    # dry run \n",
    "    p = model(np.random.random((10,seqlen,4)))\n",
    "\n",
    "    for b_idx, b in enumerate(BATCH_SIZES):\n",
    "        x = np.random.random((b,seqlen,4))\n",
    "\n",
    "        t = time.time()\n",
    "        x = tf.constant(x)\n",
    "        g=[]\n",
    "        \n",
    "        with tf.GradientTape(persistent=True) as tape:\n",
    "            tape.watch(x)\n",
    "            prof, ct = model(x)\n",
    "            prof = [prof[:,i:i+1] for i in range(seqlen)]\n",
    "\n",
    "        for i in range(seqlen):\n",
    "            g.append((x*tape.gradient(prof[i], x)).numpy())\n",
    "        g.append((x*tape.gradient(ct, x)).numpy())\n",
    "        times.append(time.time()-t)\n",
    "\n",
    "        per_100.append((times[-1]/b)*100)\n",
    "        print(\"BATCH SIZE: {}\\tTIME: {:.2f}\\tPER 100: {:.2f}\".format(b, times[-1], per_100[-1]))\n",
    "\n",
    "    print(\"BEST PER 100: {:.2f}\".format(min(per_100)))"
   ]
  },
  {
   "cell_type": "code",
   "execution_count": null,
   "metadata": {},
   "outputs": [],
   "source": []
  }
 ],
 "metadata": {
  "kernelspec": {
   "display_name": "Python 3",
   "language": "python",
   "name": "python3"
  },
  "language_info": {
   "codemirror_mode": {
    "name": "ipython",
    "version": 3
   },
   "file_extension": ".py",
   "mimetype": "text/x-python",
   "name": "python",
   "nbconvert_exporter": "python",
   "pygments_lexer": "ipython3",
   "version": "3.7.9"
  }
 },
 "nbformat": 4,
 "nbformat_minor": 4
}
