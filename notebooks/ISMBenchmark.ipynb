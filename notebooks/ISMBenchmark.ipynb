{
 "cells": [
  {
   "cell_type": "markdown",
   "metadata": {},
   "source": [
    "# ISM Benchmark\n",
    "\n",
    "Benchmark NaiveISM and fastISM."
   ]
  },
  {
   "cell_type": "code",
   "execution_count": 1,
   "metadata": {},
   "outputs": [],
   "source": [
    "import sys\n",
    "sys.path.append(\"../\")\n",
    "\n",
    "import fastISM\n",
    "from fastISM.models.basset import basset_model\n",
    "from fastISM.models.factorized_basset import factorized_basset_model\n",
    "from fastISM.models.bpnet import bpnet_model\n",
    "import tensorflow as tf\n",
    "import numpy as np\n",
    "from importlib import reload\n",
    "import time"
   ]
  },
  {
   "cell_type": "code",
   "execution_count": 2,
   "metadata": {},
   "outputs": [
    {
     "data": {
      "text/plain": [
       "'2.3.0'"
      ]
     },
     "execution_count": 2,
     "metadata": {},
     "output_type": "execute_result"
    }
   ],
   "source": [
    "tf.__version__"
   ]
  },
  {
   "cell_type": "code",
   "execution_count": 3,
   "metadata": {},
   "outputs": [
    {
     "name": "stdout",
     "output_type": "stream",
     "text": [
      "Tue Sep  8 08:29:05 2020       \n",
      "+-----------------------------------------------------------------------------+\n",
      "| NVIDIA-SMI 450.51.05    Driver Version: 450.51.05    CUDA Version: 11.0     |\n",
      "|-------------------------------+----------------------+----------------------+\n",
      "| GPU  Name        Persistence-M| Bus-Id        Disp.A | Volatile Uncorr. ECC |\n",
      "| Fan  Temp  Perf  Pwr:Usage/Cap|         Memory-Usage | GPU-Util  Compute M. |\n",
      "|                               |                      |               MIG M. |\n",
      "|===============================+======================+======================|\n",
      "|   0  Tesla P100-PCIE...  On   | 00000000:82:00.0 Off |                    0 |\n",
      "| N/A   30C    P0    27W / 250W |      0MiB / 16280MiB |      0%   E. Process |\n",
      "|                               |                      |                  N/A |\n",
      "+-------------------------------+----------------------+----------------------+\n",
      "                                                                               \n",
      "+-----------------------------------------------------------------------------+\n",
      "| Processes:                                                                  |\n",
      "|  GPU   GI   CI        PID   Type   Process name                  GPU Memory |\n",
      "|        ID   ID                                                   Usage      |\n",
      "|=============================================================================|\n",
      "|  No running processes found                                                 |\n",
      "+-----------------------------------------------------------------------------+\n"
     ]
    }
   ],
   "source": [
    "!nvidia-smi"
   ]
  },
  {
   "cell_type": "code",
   "execution_count": 4,
   "metadata": {},
   "outputs": [
    {
     "name": "stdout",
     "output_type": "stream",
     "text": [
      "GPU 0: Tesla P100-PCIE-16GB (UUID: GPU-0d9a859c-ce19-78f3-2f87-aade11d14bae)\n"
     ]
    }
   ],
   "source": [
    "!nvidia-smi -L"
   ]
  },
  {
   "cell_type": "code",
   "execution_count": 1,
   "metadata": {},
   "outputs": [
    {
     "name": "stdout",
     "output_type": "stream",
     "text": [
      "nvcc: NVIDIA (R) Cuda compiler driver\n",
      "Copyright (c) 2005-2019 NVIDIA Corporation\n",
      "Built on Wed_Apr_24_19:10:27_PDT_2019\n",
      "Cuda compilation tools, release 10.1, V10.1.168\n"
     ]
    }
   ],
   "source": [
    "!nvcc --version"
   ]
  },
  {
   "cell_type": "code",
   "execution_count": 6,
   "metadata": {},
   "outputs": [
    {
     "name": "stdout",
     "output_type": "stream",
     "text": [
      "Num GPUs Available:  1\n"
     ]
    }
   ],
   "source": [
    "print(\"Num GPUs Available: \", len(tf.config.experimental.list_physical_devices('GPU')))"
   ]
  },
  {
   "cell_type": "code",
   "execution_count": 7,
   "metadata": {},
   "outputs": [
    {
     "data": {
      "text/plain": [
       "'GPU:0'"
      ]
     },
     "execution_count": 7,
     "metadata": {},
     "output_type": "execute_result"
    }
   ],
   "source": [
    "device = 'GPU:0' if tf.config.experimental.list_physical_devices('GPU') else '/device:CPU:0'\n",
    "device"
   ]
  },
  {
   "cell_type": "code",
   "execution_count": 8,
   "metadata": {},
   "outputs": [],
   "source": [
    "seqs = np.load(\"test.seq.npy\")"
   ]
  },
  {
   "cell_type": "code",
   "execution_count": 9,
   "metadata": {},
   "outputs": [
    {
     "data": {
      "text/plain": [
       "(5000, 2000, 4)"
      ]
     },
     "execution_count": 9,
     "metadata": {},
     "output_type": "execute_result"
    }
   ],
   "source": [
    "seqs.shape"
   ]
  },
  {
   "cell_type": "markdown",
   "metadata": {},
   "source": [
    "## Benchmark\n",
    "\n",
    "Best practice would be to restart kernel after benchmarking each model!"
   ]
  },
  {
   "cell_type": "code",
   "execution_count": 10,
   "metadata": {},
   "outputs": [],
   "source": [
    "def time_ism(ism_model, batch_sizes, seqlen):\n",
    "    times = []\n",
    "    per_100 = []\n",
    "    for b in batch_sizes:\n",
    "\n",
    "        # dry run -- required as first batch slower for setting up\n",
    "        #            and variable batch sizes (due to varying number\n",
    "        #            of seqs that need to be mutated at a position) \n",
    "        #            also slows down first call\n",
    "        # x = np.random.random((b,seqlen,4))\n",
    "        x = seqs[:b, :seqlen]        \n",
    "        x = tf.constant(x, dtype=ism_model.model.inputs[0].dtype)\n",
    "        o = ism_model(x, [0,0,0,1])\n",
    "        \n",
    "        t = time.time()\n",
    "        x = tf.constant(x, dtype=ism_model.model.inputs[0].dtype)\n",
    "        \n",
    "        # NOTE: computations are only performed at those positions\n",
    "        # at which the existing base != replace_with\n",
    "        o = ism_model(x, replace_with=[0,0,0,1])\n",
    "        o = ism_model(x, replace_with=[0,0,1,0])\n",
    "        o = ism_model(x, replace_with=[0,1,0,0])\n",
    "        o = ism_model(x, replace_with=[1,0,0,0])\n",
    "        \n",
    "        times.append(time.time()-t)\n",
    "        \n",
    "        per_100.append((times[-1]/b)*100)\n",
    "        print(\"BATCH: {}\\tTIME: {:.2f}\\tPER 100: {:.2f}\".format(b, times[-1], (times[-1]/b)*100))\n",
    "    \n",
    "    print(\"BEST PER 100: {:.2f}\".format(min(per_100)))"
   ]
  },
  {
   "cell_type": "markdown",
   "metadata": {},
   "source": [
    "### Basset (1000)"
   ]
  },
  {
   "cell_type": "code",
   "execution_count": 10,
   "metadata": {},
   "outputs": [],
   "source": [
    "model = basset_model(seqlen=1000, num_outputs=1)"
   ]
  },
  {
   "cell_type": "code",
   "execution_count": 20,
   "metadata": {},
   "outputs": [],
   "source": [
    "model_fism = fastISM.FastISM(model, test_correctness=False)"
   ]
  },
  {
   "cell_type": "code",
   "execution_count": 21,
   "metadata": {},
   "outputs": [
    {
     "name": "stdout",
     "output_type": "stream",
     "text": [
      "BATCH: 64\tTIME: 46.48\tPER 100: 72.63\n",
      "BATCH: 256\tTIME: 47.21\tPER 100: 18.44\n",
      "BATCH: 2048\tTIME: 64.28\tPER 100: 3.14\n",
      "BATCH: 3096\tTIME: 86.50\tPER 100: 2.79\n",
      "BATCH: 4096\tTIME: 110.41\tPER 100: 2.70\n",
      "BEST PER 100: 2.70\n"
     ]
    }
   ],
   "source": [
    "time_ism(model_fism, [64, 256, 2048, 3096, 4096], 1000)"
   ]
  },
  {
   "cell_type": "code",
   "execution_count": 11,
   "metadata": {},
   "outputs": [],
   "source": [
    "model_nism = fastISM.NaiveISM(model)"
   ]
  },
  {
   "cell_type": "code",
   "execution_count": 12,
   "metadata": {},
   "outputs": [
    {
     "name": "stdout",
     "output_type": "stream",
     "text": [
      "BATCH: 128\tTIME: 44.07\tPER 100: 34.43\n",
      "BATCH: 256\tTIME: 76.95\tPER 100: 30.06\n",
      "BATCH: 512\tTIME: 143.60\tPER 100: 28.05\n",
      "BATCH: 1024\tTIME: 280.21\tPER 100: 27.36\n",
      "BATCH: 2048\tTIME: 562.39\tPER 100: 27.46\n",
      "BEST PER 100: 27.36\n"
     ]
    }
   ],
   "source": [
    "time_ism(model_nism, [128, 256, 512, 1024, 2048], 1000)"
   ]
  },
  {
   "cell_type": "markdown",
   "metadata": {},
   "source": [
    "### Basset (2000)"
   ]
  },
  {
   "cell_type": "code",
   "execution_count": 10,
   "metadata": {},
   "outputs": [],
   "source": [
    "model = basset_model(seqlen=2000, num_outputs=1)"
   ]
  },
  {
   "cell_type": "code",
   "execution_count": 11,
   "metadata": {},
   "outputs": [],
   "source": [
    "model_fism = fastISM.FastISM(model, test_correctness=False)"
   ]
  },
  {
   "cell_type": "code",
   "execution_count": 12,
   "metadata": {},
   "outputs": [
    {
     "name": "stdout",
     "output_type": "stream",
     "text": [
      "BATCH: 128\tTIME: 89.73\tPER 100: 70.10\n",
      "BATCH: 1024\tTIME: 98.75\tPER 100: 9.64\n",
      "BATCH: 2048\tTIME: 132.92\tPER 100: 6.49\n",
      "BEST PER 100: 6.49\n"
     ]
    }
   ],
   "source": [
    "time_ism(model_fism, [128, 1024, 2048], 2000)"
   ]
  },
  {
   "cell_type": "code",
   "execution_count": 11,
   "metadata": {},
   "outputs": [],
   "source": [
    "model_nism = fastISM.NaiveISM(model)"
   ]
  },
  {
   "cell_type": "code",
   "execution_count": 12,
   "metadata": {},
   "outputs": [
    {
     "name": "stdout",
     "output_type": "stream",
     "text": [
      "BATCH: 64\tTIME: 87.72\tPER 100: 137.06\n",
      "BATCH: 128\tTIME: 148.35\tPER 100: 115.90\n",
      "BATCH: 256\tTIME: 273.88\tPER 100: 106.99\n",
      "BATCH: 512\tTIME: 524.65\tPER 100: 102.47\n",
      "BATCH: 1024\tTIME: 1028.54\tPER 100: 100.44\n",
      "BEST PER 100: 100.44\n"
     ]
    }
   ],
   "source": [
    "time_ism(model_nism, [64, 128, 256, 512, 1024], 2000)"
   ]
  },
  {
   "cell_type": "code",
   "execution_count": 13,
   "metadata": {},
   "outputs": [
    {
     "name": "stdout",
     "output_type": "stream",
     "text": [
      "BATCH: 2048\tTIME: 2066.35\tPER 100: 100.90\n",
      "BEST PER 100: 100.90\n"
     ]
    }
   ],
   "source": [
    "time_ism(model_nism, [2048], 2000)"
   ]
  },
  {
   "cell_type": "markdown",
   "metadata": {},
   "source": [
    "### Factorized Basset (1000)"
   ]
  },
  {
   "cell_type": "code",
   "execution_count": 11,
   "metadata": {},
   "outputs": [],
   "source": [
    "model = factorized_basset_model(seqlen=1000, num_outputs=1)"
   ]
  },
  {
   "cell_type": "code",
   "execution_count": 12,
   "metadata": {},
   "outputs": [],
   "source": [
    "model_fism = fastISM.FastISM(model, test_correctness=False)"
   ]
  },
  {
   "cell_type": "code",
   "execution_count": 13,
   "metadata": {},
   "outputs": [
    {
     "name": "stdout",
     "output_type": "stream",
     "text": [
      "BATCH: 64\tTIME: 104.68\tPER 100: 163.56\n",
      "BATCH: 256\tTIME: 105.98\tPER 100: 41.40\n",
      "BATCH: 2048\tTIME: 140.13\tPER 100: 6.84\n",
      "BATCH: 3072\tTIME: 167.94\tPER 100: 5.47\n",
      "BEST PER 100: 5.47\n"
     ]
    }
   ],
   "source": [
    "time_ism(model_fism, [64, 256, 2048, 3072], 1000)"
   ]
  },
  {
   "cell_type": "code",
   "execution_count": 12,
   "metadata": {},
   "outputs": [],
   "source": [
    "model_nism = fastISM.NaiveISM(model)"
   ]
  },
  {
   "cell_type": "code",
   "execution_count": 13,
   "metadata": {},
   "outputs": [
    {
     "name": "stdout",
     "output_type": "stream",
     "text": [
      "BATCH: 64\tTIME: 67.23\tPER 100: 105.05\n",
      "BATCH: 128\tTIME: 105.19\tPER 100: 82.18\n",
      "BATCH: 256\tTIME: 187.13\tPER 100: 73.10\n",
      "BATCH: 512\tTIME: 355.94\tPER 100: 69.52\n",
      "BATCH: 1024\tTIME: 706.25\tPER 100: 68.97\n",
      "BEST PER 100: 68.97\n"
     ]
    }
   ],
   "source": [
    "time_ism(model_nism, [64, 128, 256, 512, 1024], 1000)"
   ]
  },
  {
   "cell_type": "code",
   "execution_count": 14,
   "metadata": {},
   "outputs": [
    {
     "name": "stdout",
     "output_type": "stream",
     "text": [
      "BATCH: 2048\tTIME: 1418.41\tPER 100: 69.26\n",
      "BEST PER 100: 69.26\n"
     ]
    }
   ],
   "source": [
    "time_ism(model_nism, [2048], 1000)"
   ]
  },
  {
   "cell_type": "markdown",
   "metadata": {},
   "source": [
    "### Factorized Basset (2000)"
   ]
  },
  {
   "cell_type": "code",
   "execution_count": 12,
   "metadata": {},
   "outputs": [],
   "source": [
    "model = factorized_basset_model(seqlen=2000, num_outputs=1)"
   ]
  },
  {
   "cell_type": "code",
   "execution_count": 11,
   "metadata": {},
   "outputs": [],
   "source": [
    "model_fism = fastISM.FastISM(model, test_correctness=False)"
   ]
  },
  {
   "cell_type": "code",
   "execution_count": 12,
   "metadata": {},
   "outputs": [
    {
     "name": "stdout",
     "output_type": "stream",
     "text": [
      "BATCH: 128\tTIME: 203.03\tPER 100: 158.62\n",
      "BATCH: 512\tTIME: 207.94\tPER 100: 40.61\n",
      "BATCH: 1024\tTIME: 218.77\tPER 100: 21.36\n",
      "BEST PER 100: 21.36\n"
     ]
    }
   ],
   "source": [
    "time_ism(model_fism, [128, 512, 1024], 2000)"
   ]
  },
  {
   "cell_type": "code",
   "execution_count": 13,
   "metadata": {},
   "outputs": [
    {
     "name": "stdout",
     "output_type": "stream",
     "text": [
      "BATCH: 1280\tTIME: 230.89\tPER 100: 18.04\n",
      "BEST PER 100: 18.04\n"
     ]
    }
   ],
   "source": [
    "time_ism(model_fism, [1280], 2000)"
   ]
  },
  {
   "cell_type": "code",
   "execution_count": 13,
   "metadata": {},
   "outputs": [],
   "source": [
    "model_nism = fastISM.NaiveISM(model)"
   ]
  },
  {
   "cell_type": "code",
   "execution_count": 14,
   "metadata": {},
   "outputs": [
    {
     "name": "stdout",
     "output_type": "stream",
     "text": [
      "BATCH: 64\tTIME: 210.42\tPER 100: 328.78\n",
      "BATCH: 128\tTIME: 366.18\tPER 100: 286.08\n",
      "BATCH: 256\tTIME: 689.63\tPER 100: 269.39\n",
      "BATCH: 512\tTIME: 1342.65\tPER 100: 262.24\n",
      "BEST PER 100: 262.24\n"
     ]
    }
   ],
   "source": [
    "# FINAL\n",
    "time_ism(model_nism, [64, 128, 256, 512], 2000)"
   ]
  },
  {
   "cell_type": "markdown",
   "metadata": {},
   "source": [
    "### BPNet (1000)"
   ]
  },
  {
   "cell_type": "code",
   "execution_count": 10,
   "metadata": {},
   "outputs": [],
   "source": [
    "model = bpnet_model(seqlen=1000, num_dilated_convs=9)"
   ]
  },
  {
   "cell_type": "code",
   "execution_count": 11,
   "metadata": {},
   "outputs": [],
   "source": [
    "model_fism = fastISM.FastISM(model, test_correctness=False)"
   ]
  },
  {
   "cell_type": "code",
   "execution_count": 12,
   "metadata": {},
   "outputs": [
    {
     "name": "stdout",
     "output_type": "stream",
     "text": [
      "BATCH: 64\tTIME: 188.36\tPER 100: 294.31\n",
      "BATCH: 512\tTIME: 228.79\tPER 100: 44.69\n",
      "BATCH: 1280\tTIME: 370.86\tPER 100: 28.97\n",
      "BEST PER 100: 28.97\n"
     ]
    }
   ],
   "source": [
    "# FINAL\n",
    "time_ism(model_fism, [64, 512, 1280], 1000)"
   ]
  },
  {
   "cell_type": "code",
   "execution_count": 11,
   "metadata": {},
   "outputs": [],
   "source": [
    "model_nism = fastISM.NaiveISM(model)"
   ]
  },
  {
   "cell_type": "code",
   "execution_count": 12,
   "metadata": {},
   "outputs": [
    {
     "name": "stdout",
     "output_type": "stream",
     "text": [
      "BATCH: 128\tTIME: 64.59\tPER 100: 50.46\n",
      "BATCH: 256\tTIME: 119.39\tPER 100: 46.64\n",
      "BATCH: 512\tTIME: 235.98\tPER 100: 46.09\n",
      "BATCH: 1024\tTIME: 483.09\tPER 100: 47.18\n",
      "BEST PER 100: 46.09\n"
     ]
    }
   ],
   "source": [
    "# FINAL\n",
    "time_ism(model_nism, [128, 256, 512, 1024], 1000)"
   ]
  },
  {
   "cell_type": "markdown",
   "metadata": {},
   "source": [
    "### BPNet (2000)"
   ]
  },
  {
   "cell_type": "code",
   "execution_count": 11,
   "metadata": {},
   "outputs": [],
   "source": [
    "model = bpnet_model(seqlen=2000, num_dilated_convs=9)"
   ]
  },
  {
   "cell_type": "code",
   "execution_count": 13,
   "metadata": {},
   "outputs": [],
   "source": [
    "model_fism = fastISM.FastISM(model, test_correctness=False)"
   ]
  },
  {
   "cell_type": "code",
   "execution_count": 16,
   "metadata": {},
   "outputs": [
    {
     "name": "stdout",
     "output_type": "stream",
     "text": [
      "BATCH: 64\tTIME: 378.26\tPER 100: 591.03\n",
      "BATCH: 512\tTIME: 507.65\tPER 100: 99.15\n",
      "BATCH: 768\tTIME: 626.06\tPER 100: 81.52\n",
      "BEST PER 100: 81.52\n"
     ]
    }
   ],
   "source": [
    "# FINAL\n",
    "time_ism(model_fism, [64,512,768], 2000)"
   ]
  },
  {
   "cell_type": "code",
   "execution_count": 12,
   "metadata": {},
   "outputs": [],
   "source": [
    "model_nism = fastISM.NaiveISM(model)"
   ]
  },
  {
   "cell_type": "code",
   "execution_count": 13,
   "metadata": {},
   "outputs": [
    {
     "name": "stdout",
     "output_type": "stream",
     "text": [
      "BATCH: 64\tTIME: 126.32\tPER 100: 197.38\n",
      "BATCH: 128\tTIME: 231.87\tPER 100: 181.15\n",
      "BATCH: 256\tTIME: 445.35\tPER 100: 173.96\n",
      "BATCH: 512\tTIME: 902.32\tPER 100: 176.23\n",
      "BEST PER 100: 173.96\n"
     ]
    }
   ],
   "source": [
    "# FINAL\n",
    "time_ism(model_nism, [64, 128, 256, 512], 2000)"
   ]
  },
  {
   "cell_type": "code",
   "execution_count": null,
   "metadata": {},
   "outputs": [],
   "source": []
  }
 ],
 "metadata": {
  "kernelspec": {
   "display_name": "Python 3",
   "language": "python",
   "name": "python3"
  },
  "language_info": {
   "codemirror_mode": {
    "name": "ipython",
    "version": 3
   },
   "file_extension": ".py",
   "mimetype": "text/x-python",
   "name": "python",
   "nbconvert_exporter": "python",
   "pygments_lexer": "ipython3",
   "version": "3.7.9"
  }
 },
 "nbformat": 4,
 "nbformat_minor": 4
}
