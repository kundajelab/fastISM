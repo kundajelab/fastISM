{
 "cells": [
  {
   "cell_type": "markdown",
   "metadata": {},
   "source": [
    "# Grad x Input Benchmark"
   ]
  },
  {
   "cell_type": "code",
   "execution_count": 1,
   "metadata": {},
   "outputs": [],
   "source": [
    "import sys\n",
    "sys.path.append(\"../\")\n",
    "\n",
    "import fastISM\n",
    "from fastISM.models.basset import basset_model\n",
    "\n",
    "from fastISM.models.factorized_basset import factorized_basset_model\n",
    "from fastISM.models.bpnet import bpnet_model\n",
    "import tensorflow as tf\n",
    "import numpy as np\n",
    "from importlib import reload\n",
    "import time"
   ]
  },
  {
   "cell_type": "code",
   "execution_count": 2,
   "metadata": {},
   "outputs": [
    {
     "data": {
      "text/plain": [
       "<module 'fastISM' from '../fastISM/__init__.py'>"
      ]
     },
     "execution_count": 2,
     "metadata": {},
     "output_type": "execute_result"
    }
   ],
   "source": [
    "reload(fastISM.flatten_model)\n",
    "reload(fastISM.models)\n",
    "reload(fastISM.ism_base)\n",
    "reload(fastISM.change_range)\n",
    "reload(fastISM.fast_ism_utils)\n",
    "reload(fastISM)"
   ]
  },
  {
   "cell_type": "code",
   "execution_count": 3,
   "metadata": {},
   "outputs": [
    {
     "data": {
      "text/plain": [
       "'2.3.0'"
      ]
     },
     "execution_count": 3,
     "metadata": {},
     "output_type": "execute_result"
    }
   ],
   "source": [
    "tf.__version__"
   ]
  },
  {
   "cell_type": "code",
   "execution_count": 4,
   "metadata": {},
   "outputs": [
    {
     "name": "stdout",
     "output_type": "stream",
     "text": [
      "Num GPUs Available:  1\n"
     ]
    }
   ],
   "source": [
    "print(\"Num GPUs Available: \", len(tf.config.experimental.list_physical_devices('GPU')))"
   ]
  },
  {
   "cell_type": "code",
   "execution_count": 5,
   "metadata": {},
   "outputs": [
    {
     "data": {
      "text/plain": [
       "'GPU:0'"
      ]
     },
     "execution_count": 5,
     "metadata": {},
     "output_type": "execute_result"
    }
   ],
   "source": [
    "device = 'GPU:0' if tf.config.experimental.list_physical_devices('GPU') else '/device:CPU:0'\n",
    "device"
   ]
  },
  {
   "cell_type": "markdown",
   "metadata": {},
   "source": [
    "## Benchmark"
   ]
  },
  {
   "cell_type": "markdown",
   "metadata": {},
   "source": [
    "### Basset/Factorized Basset"
   ]
  },
  {
   "cell_type": "code",
   "execution_count": 29,
   "metadata": {},
   "outputs": [],
   "source": [
    "BATCH_SIZES = [1,32,64,128,256]"
   ]
  },
  {
   "cell_type": "code",
   "execution_count": 32,
   "metadata": {},
   "outputs": [
    {
     "name": "stdout",
     "output_type": "stream",
     "text": [
      "\n",
      "------------------\n",
      "MODEL: <function basset_model at 0x7f6cec170680>\n",
      "SEQLEN: 1000\n",
      "BATCH SIZE: 1\tTIME: 0.03\tPER 100: 2.87\n",
      "BATCH SIZE: 32\tTIME: 0.05\tPER 100: 0.15\n",
      "BATCH SIZE: 64\tTIME: 0.06\tPER 100: 0.09\n",
      "BATCH SIZE: 128\tTIME: 0.09\tPER 100: 0.07\n",
      "BATCH SIZE: 256\tTIME: 0.17\tPER 100: 0.07\n",
      "BEST PER 100: 0.07\n",
      "\n",
      "------------------\n",
      "MODEL: <function basset_model at 0x7f6cec170680>\n",
      "SEQLEN: 2000\n",
      "BATCH SIZE: 1\tTIME: 0.03\tPER 100: 2.69\n",
      "BATCH SIZE: 32\tTIME: 0.06\tPER 100: 0.20\n",
      "BATCH SIZE: 64\tTIME: 0.09\tPER 100: 0.15\n",
      "BATCH SIZE: 128\tTIME: 0.17\tPER 100: 0.14\n",
      "BATCH SIZE: 256\tTIME: 0.35\tPER 100: 0.14\n",
      "BEST PER 100: 0.14\n",
      "\n",
      "------------------\n",
      "MODEL: <function factorized_basset_model at 0x7f6cec170290>\n",
      "SEQLEN: 1000\n",
      "BATCH SIZE: 1\tTIME: 0.06\tPER 100: 6.46\n",
      "BATCH SIZE: 32\tTIME: 0.09\tPER 100: 0.29\n",
      "BATCH SIZE: 64\tTIME: 0.12\tPER 100: 0.19\n",
      "BATCH SIZE: 128\tTIME: 0.21\tPER 100: 0.16\n",
      "BATCH SIZE: 256\tTIME: 0.39\tPER 100: 0.15\n",
      "BEST PER 100: 0.15\n",
      "\n",
      "------------------\n",
      "MODEL: <function factorized_basset_model at 0x7f6cec170290>\n",
      "SEQLEN: 2000\n",
      "BATCH SIZE: 1\tTIME: 0.07\tPER 100: 6.86\n",
      "BATCH SIZE: 32\tTIME: 0.13\tPER 100: 0.40\n",
      "BATCH SIZE: 64\tTIME: 0.21\tPER 100: 0.33\n",
      "BATCH SIZE: 128\tTIME: 0.40\tPER 100: 0.31\n",
      "BATCH SIZE: 256\tTIME: 0.80\tPER 100: 0.31\n",
      "BEST PER 100: 0.31\n"
     ]
    }
   ],
   "source": [
    "# shap_values most likely internally creates a batch for each example\n",
    "# thus time per 100 examples stays near constant with batch size\n",
    "\n",
    "NUM_TO_AVG = 100\n",
    "\n",
    "for model_type in [basset_model, factorized_basset_model]:\n",
    "    for seqlen in [1000, 2000]:\n",
    "        print(\"\\n------------------\")\n",
    "        print(\"MODEL: {}\".format(model_type))\n",
    "        print(\"SEQLEN: {}\".format(seqlen))\n",
    "        model = model_type(seqlen=seqlen, num_outputs=1)\n",
    "        \n",
    "        # dry run \n",
    "        p = model(np.random.random((10,seqlen,4)))\n",
    "        \n",
    "        times = []\n",
    "        per_100 = []\n",
    "        for b in BATCH_SIZES:\n",
    "            tot = 0\n",
    "            for i in range(NUM_TO_AVG):\n",
    "                x = np.random.random((b,seqlen,4))\n",
    "                \n",
    "                t = time.time()\n",
    "                x = tf.constant(x)\n",
    "                with tf.GradientTape() as tape:\n",
    "                    tape.watch(x)\n",
    "                    pred = model(x)\n",
    "                g = (x*tape.gradient(pred, x)).numpy()\n",
    "                \n",
    "                tot+= time.time() - t\n",
    "                \n",
    "            times.append(tot/NUM_TO_AVG)\n",
    "            per_100.append((times[-1]/b)*100)\n",
    "            print(\"BATCH SIZE: {}\\tTIME: {:.2f}\\tPER 100: {:.2f}\".format(b, times[-1], (times[-1]/b)*100))\n",
    "        \n",
    "        print(\"BEST PER 100: {:.2f}\".format(min(per_100)))"
   ]
  },
  {
   "cell_type": "markdown",
   "metadata": {},
   "source": [
    "### BPNet"
   ]
  },
  {
   "cell_type": "code",
   "execution_count": 6,
   "metadata": {},
   "outputs": [],
   "source": [
    "BATCH_SIZES = [1, 32, 64, 128]"
   ]
  },
  {
   "cell_type": "code",
   "execution_count": 11,
   "metadata": {},
   "outputs": [
    {
     "name": "stdout",
     "output_type": "stream",
     "text": [
      "\n",
      "------------------\n",
      "SEQLEN: 1000\n",
      "BATCH SIZE: 1\tTIME: 17.53\tPER 100: 1752.96\n",
      "BATCH SIZE: 32\tTIME: 28.40\tPER 100: 88.74\n",
      "BATCH SIZE: 64\tTIME: 49.78\tPER 100: 77.78\n",
      "BATCH SIZE: 128\tTIME: 101.56\tPER 100: 79.35\n",
      "BEST PER 100: 77.78\n",
      "\n",
      "------------------\n",
      "SEQLEN: 2000\n",
      "BATCH SIZE: 1\tTIME: 38.44\tPER 100: 3843.96\n",
      "BATCH SIZE: 32\tTIME: 81.94\tPER 100: 256.07\n",
      "BATCH SIZE: 64\tTIME: 142.71\tPER 100: 222.98\n",
      "BATCH SIZE: 128\tTIME: 286.70\tPER 100: 223.99\n",
      "BEST PER 100: 222.98\n"
     ]
    }
   ],
   "source": [
    "for seqlen in [1000, 2000]:\n",
    "    print(\"\\n------------------\")\n",
    "    print(\"SEQLEN: {}\".format(seqlen))\n",
    "    model = bpnet_model(seqlen=seqlen, num_dilated_convs=9)\n",
    "\n",
    "    # run explainers for each position\n",
    "    times = []\n",
    "    per_100 = []\n",
    "\n",
    "    # dry run \n",
    "    p = model(np.random.random((10,seqlen,4)))\n",
    "\n",
    "    for b_idx, b in enumerate(BATCH_SIZES):\n",
    "        x = np.random.random((b,seqlen,4))\n",
    "\n",
    "        t = time.time()\n",
    "        x = tf.constant(x)\n",
    "        g=[]\n",
    "        \n",
    "        with tf.GradientTape(persistent=True) as tape:\n",
    "            tape.watch(x)\n",
    "            prof, ct = model(x)\n",
    "            prof = [prof[:,i:i+1] for i in range(seqlen)]\n",
    "\n",
    "        for i in range(seqlen):\n",
    "            g.append((x*tape.gradient(prof[i], x)).numpy())\n",
    "        g.append((x*tape.gradient(ct, x)).numpy())\n",
    "        times.append(time.time()-t)\n",
    "\n",
    "        per_100.append((times[-1]/b)*100)\n",
    "        print(\"BATCH SIZE: {}\\tTIME: {:.2f}\\tPER 100: {:.2f}\".format(b, times[-1], per_100[-1]))\n",
    "\n",
    "    print(\"BEST PER 100: {:.2f}\".format(min(per_100)))"
   ]
  },
  {
   "cell_type": "code",
   "execution_count": null,
   "metadata": {},
   "outputs": [],
   "source": []
  }
 ],
 "metadata": {
  "kernelspec": {
   "display_name": "Python 3",
   "language": "python",
   "name": "python3"
  },
  "language_info": {
   "codemirror_mode": {
    "name": "ipython",
    "version": 3
   },
   "file_extension": ".py",
   "mimetype": "text/x-python",
   "name": "python",
   "nbconvert_exporter": "python",
   "pygments_lexer": "ipython3",
   "version": "3.7.8"
  }
 },
 "nbformat": 4,
 "nbformat_minor": 4
}
