{
 "cells": [
  {
   "cell_type": "markdown",
   "metadata": {},
   "source": [
    "# ISM Benchmark\n",
    "\n",
    "Benchmark NaiveISM and fastISM."
   ]
  },
  {
   "cell_type": "code",
   "execution_count": 1,
   "metadata": {},
   "outputs": [],
   "source": [
    "import sys\n",
    "sys.path.append(\"../\")\n",
    "\n",
    "import fastISM\n",
    "from fastISM.models.basset import basset_model\n",
    "from fastISM.models.factorized_basset import factorized_basset_model\n",
    "from fastISM.models.bpnet import bpnet_model\n",
    "import tensorflow as tf\n",
    "import numpy as np\n",
    "from importlib import reload\n",
    "import time"
   ]
  },
  {
   "cell_type": "code",
   "execution_count": 2,
   "metadata": {},
   "outputs": [
    {
     "data": {
      "text/plain": [
       "'2.3.0'"
      ]
     },
     "execution_count": 2,
     "metadata": {},
     "output_type": "execute_result"
    }
   ],
   "source": [
    "tf.__version__"
   ]
  },
  {
   "cell_type": "code",
   "execution_count": 3,
   "metadata": {},
   "outputs": [
    {
     "name": "stdout",
     "output_type": "stream",
     "text": [
      "Num GPUs Available:  1\n"
     ]
    }
   ],
   "source": [
    "print(\"Num GPUs Available: \", len(tf.config.experimental.list_physical_devices('GPU')))"
   ]
  },
  {
   "cell_type": "code",
   "execution_count": 4,
   "metadata": {},
   "outputs": [
    {
     "data": {
      "text/plain": [
       "'GPU:0'"
      ]
     },
     "execution_count": 4,
     "metadata": {},
     "output_type": "execute_result"
    }
   ],
   "source": [
    "device = 'GPU:0' if tf.config.experimental.list_physical_devices('GPU') else '/device:CPU:0'\n",
    "device"
   ]
  },
  {
   "cell_type": "markdown",
   "metadata": {},
   "source": [
    "## Benchmark\n",
    "\n",
    "Best practice would be to restart kernel after benchmarking each model!"
   ]
  },
  {
   "cell_type": "code",
   "execution_count": 5,
   "metadata": {},
   "outputs": [],
   "source": [
    "def time_ism(ism_model, batch_sizes, seqlen):\n",
    "    times = []\n",
    "    per_100 = []\n",
    "    for b in batch_sizes:\n",
    "        x = np.random.random((b,seqlen,4))\n",
    "\n",
    "        # dry run -- not required (might slow down first batch at most)\n",
    "        # model(tf.constant(x[:2]))\n",
    "        \n",
    "        t = time.time()\n",
    "        ism_model(x)\n",
    "        times.append(time.time()-t)\n",
    "        per_100.append((times[-1]/b)*100)\n",
    "        print(\"BATCH: {}\\tTIME: {:.2f}\\tPER 100: {:.2f}\".format(b, times[-1], (times[-1]/b)*100))\n",
    "    \n",
    "    print(\"BEST PER 100: {:.2f}\".format(min(per_100)))"
   ]
  },
  {
   "cell_type": "markdown",
   "metadata": {},
   "source": [
    "### Basset (1000)"
   ]
  },
  {
   "cell_type": "code",
   "execution_count": 7,
   "metadata": {},
   "outputs": [],
   "source": [
    "model = basset_model(seqlen=1000, num_outputs=1)"
   ]
  },
  {
   "cell_type": "code",
   "execution_count": 10,
   "metadata": {},
   "outputs": [],
   "source": [
    "model_fism = fastISM.FastISM(model, test_correctness=False)"
   ]
  },
  {
   "cell_type": "code",
   "execution_count": 9,
   "metadata": {},
   "outputs": [
    {
     "name": "stdout",
     "output_type": "stream",
     "text": [
      "BATCH: 64\tTIME: 11.57\tPER 100: 18.08\n",
      "BATCH: 128\tTIME: 10.39\tPER 100: 8.12\n",
      "BATCH: 256\tTIME: 10.50\tPER 100: 4.10\n",
      "BATCH: 512\tTIME: 10.74\tPER 100: 2.10\n",
      "BATCH: 1024\tTIME: 14.49\tPER 100: 1.42\n",
      "BATCH: 2048\tTIME: 26.12\tPER 100: 1.28\n",
      "BEST PER 100: 1.28\n"
     ]
    }
   ],
   "source": [
    "time_ism(model_fism, [64, 128, 256, 512, 1024, 2048], 1000)"
   ]
  },
  {
   "cell_type": "code",
   "execution_count": 12,
   "metadata": {},
   "outputs": [],
   "source": [
    "model_nism = fastISM.NaiveISM(model)"
   ]
  },
  {
   "cell_type": "code",
   "execution_count": 13,
   "metadata": {},
   "outputs": [
    {
     "name": "stdout",
     "output_type": "stream",
     "text": [
      "BATCH: 64\tTIME: 12.21\tPER 100: 19.08\n",
      "BATCH: 128\tTIME: 22.13\tPER 100: 17.29\n",
      "BATCH: 256\tTIME: 42.05\tPER 100: 16.42\n",
      "BATCH: 512\tTIME: 85.48\tPER 100: 16.70\n",
      "BATCH: 1024\tTIME: 169.92\tPER 100: 16.59\n",
      "BATCH: 2048\tTIME: 361.57\tPER 100: 17.66\n",
      "BEST PER 100: 16.42\n"
     ]
    }
   ],
   "source": [
    "time_ism(model_nism, [64, 128, 256, 512, 1024, 2048], 1000)"
   ]
  },
  {
   "cell_type": "markdown",
   "metadata": {},
   "source": [
    "### Basset (2000)"
   ]
  },
  {
   "cell_type": "code",
   "execution_count": 6,
   "metadata": {},
   "outputs": [],
   "source": [
    "model = basset_model(seqlen=2000, num_outputs=1)"
   ]
  },
  {
   "cell_type": "code",
   "execution_count": 15,
   "metadata": {},
   "outputs": [],
   "source": [
    "model_fism = fastISM.FastISM(model, test_correctness=False)"
   ]
  },
  {
   "cell_type": "code",
   "execution_count": 16,
   "metadata": {},
   "outputs": [
    {
     "name": "stdout",
     "output_type": "stream",
     "text": [
      "BATCH: 64\tTIME: 20.96\tPER 100: 32.76\n",
      "BATCH: 128\tTIME: 21.33\tPER 100: 16.66\n",
      "BATCH: 256\tTIME: 21.41\tPER 100: 8.36\n",
      "BATCH: 512\tTIME: 21.95\tPER 100: 4.29\n",
      "BATCH: 1024\tTIME: 33.56\tPER 100: 3.28\n",
      "BEST PER 100: 3.28\n"
     ]
    }
   ],
   "source": [
    "time_ism(model_fism, [64, 128, 256, 512, 1024], 2000)"
   ]
  },
  {
   "cell_type": "code",
   "execution_count": 7,
   "metadata": {},
   "outputs": [],
   "source": [
    "model_nism = fastISM.NaiveISM(model)"
   ]
  },
  {
   "cell_type": "code",
   "execution_count": 8,
   "metadata": {},
   "outputs": [
    {
     "name": "stdout",
     "output_type": "stream",
     "text": [
      "BATCH: 64\tTIME: 44.52\tPER 100: 69.57\n",
      "BATCH: 128\tTIME: 81.18\tPER 100: 63.42\n",
      "BATCH: 256\tTIME: 164.56\tPER 100: 64.28\n",
      "BATCH: 512\tTIME: 324.71\tPER 100: 63.42\n",
      "BATCH: 1024\tTIME: 713.16\tPER 100: 69.64\n",
      "BEST PER 100: 63.42\n"
     ]
    }
   ],
   "source": [
    "time_ism(model_nism, [64, 128, 256, 512, 1024], 2000)"
   ]
  },
  {
   "cell_type": "markdown",
   "metadata": {},
   "source": [
    "### Factorized Basset (1000)"
   ]
  },
  {
   "cell_type": "code",
   "execution_count": 6,
   "metadata": {},
   "outputs": [],
   "source": [
    "model = factorized_basset_model(seqlen=1000, num_outputs=1)"
   ]
  },
  {
   "cell_type": "code",
   "execution_count": 18,
   "metadata": {},
   "outputs": [],
   "source": [
    "model_fism = fastISM.FastISM(model, test_correctness=False)"
   ]
  },
  {
   "cell_type": "code",
   "execution_count": 19,
   "metadata": {},
   "outputs": [
    {
     "name": "stdout",
     "output_type": "stream",
     "text": [
      "BATCH: 64\tTIME: 24.13\tPER 100: 37.71\n",
      "BATCH: 128\tTIME: 24.38\tPER 100: 19.05\n",
      "BATCH: 256\tTIME: 24.61\tPER 100: 9.61\n",
      "BATCH: 512\tTIME: 25.08\tPER 100: 4.90\n",
      "BATCH: 1024\tTIME: 29.92\tPER 100: 2.92\n",
      "BEST PER 100: 2.92\n"
     ]
    }
   ],
   "source": [
    "time_ism(model_fism, [64, 128, 256, 512, 1024], 1000)"
   ]
  },
  {
   "cell_type": "code",
   "execution_count": 7,
   "metadata": {},
   "outputs": [],
   "source": [
    "model_nism = fastISM.NaiveISM(model)"
   ]
  },
  {
   "cell_type": "code",
   "execution_count": 8,
   "metadata": {},
   "outputs": [
    {
     "name": "stdout",
     "output_type": "stream",
     "text": [
      "BATCH: 64\tTIME: 29.30\tPER 100: 45.78\n",
      "BATCH: 128\tTIME: 51.97\tPER 100: 40.60\n",
      "BATCH: 256\tTIME: 104.41\tPER 100: 40.78\n",
      "BATCH: 512\tTIME: 216.84\tPER 100: 42.35\n",
      "BATCH: 1024\tTIME: 438.84\tPER 100: 42.86\n",
      "BEST PER 100: 40.60\n"
     ]
    }
   ],
   "source": [
    "time_ism(model_nism, [64, 128, 256, 512, 1024], 1000)"
   ]
  },
  {
   "cell_type": "markdown",
   "metadata": {},
   "source": [
    "### Factorized Basset (2000)"
   ]
  },
  {
   "cell_type": "code",
   "execution_count": 6,
   "metadata": {},
   "outputs": [],
   "source": [
    "model = factorized_basset_model(seqlen=2000, num_outputs=1)"
   ]
  },
  {
   "cell_type": "code",
   "execution_count": 7,
   "metadata": {},
   "outputs": [],
   "source": [
    "model_fism = fastISM.FastISM(model, test_correctness=False)"
   ]
  },
  {
   "cell_type": "code",
   "execution_count": 9,
   "metadata": {},
   "outputs": [
    {
     "name": "stdout",
     "output_type": "stream",
     "text": [
      "BATCH: 64\tTIME: 46.85\tPER 100: 73.21\n",
      "BATCH: 128\tTIME: 46.72\tPER 100: 36.50\n",
      "BATCH: 256\tTIME: 46.86\tPER 100: 18.30\n",
      "BATCH: 512\tTIME: 47.58\tPER 100: 9.29\n",
      "BEST PER 100: 9.29\n"
     ]
    }
   ],
   "source": [
    "time_ism(model_fism, [64, 128, 256, 512], 2000)"
   ]
  },
  {
   "cell_type": "code",
   "execution_count": 7,
   "metadata": {},
   "outputs": [],
   "source": [
    "model_nism = fastISM.NaiveISM(model)"
   ]
  },
  {
   "cell_type": "code",
   "execution_count": 8,
   "metadata": {},
   "outputs": [
    {
     "name": "stdout",
     "output_type": "stream",
     "text": [
      "BATCH: 64\tTIME: 103.32\tPER 100: 161.44\n",
      "BATCH: 128\tTIME: 206.47\tPER 100: 161.30\n",
      "BATCH: 256\tTIME: 429.41\tPER 100: 167.74\n",
      "BATCH: 512\tTIME: 888.59\tPER 100: 173.55\n",
      "BEST PER 100: 161.30\n"
     ]
    }
   ],
   "source": [
    "time_ism(model_nism, [64, 128, 256, 512], 2000)"
   ]
  },
  {
   "cell_type": "markdown",
   "metadata": {},
   "source": [
    "### BPNet (1000)"
   ]
  },
  {
   "cell_type": "code",
   "execution_count": 6,
   "metadata": {},
   "outputs": [],
   "source": [
    "model = bpnet_model(seqlen=1000, num_dilated_convs=9)"
   ]
  },
  {
   "cell_type": "code",
   "execution_count": 7,
   "metadata": {},
   "outputs": [],
   "source": [
    "model_fism = fastISM.FastISM(model, test_correctness=False)"
   ]
  },
  {
   "cell_type": "code",
   "execution_count": 8,
   "metadata": {},
   "outputs": [
    {
     "name": "stdout",
     "output_type": "stream",
     "text": [
      "BATCH: 64\tTIME: 46.34\tPER 100: 72.41\n",
      "BATCH: 128\tTIME: 45.20\tPER 100: 35.31\n",
      "BATCH: 256\tTIME: 54.04\tPER 100: 21.11\n",
      "BATCH: 512\tTIME: 80.57\tPER 100: 15.74\n",
      "BATCH: 768\tTIME: 109.84\tPER 100: 14.30\n",
      "BEST PER 100: 14.30\n"
     ]
    }
   ],
   "source": [
    "time_ism(model_fism, [64, 128, 256, 512, 768], 1000)"
   ]
  },
  {
   "cell_type": "code",
   "execution_count": 7,
   "metadata": {},
   "outputs": [],
   "source": [
    "model_nism = fastISM.NaiveISM(model)"
   ]
  },
  {
   "cell_type": "code",
   "execution_count": 8,
   "metadata": {},
   "outputs": [
    {
     "name": "stdout",
     "output_type": "stream",
     "text": [
      "BATCH: 64\tTIME: 18.60\tPER 100: 29.07\n",
      "BATCH: 128\tTIME: 32.51\tPER 100: 25.40\n",
      "BATCH: 256\tTIME: 64.17\tPER 100: 25.07\n",
      "BATCH: 512\tTIME: 133.53\tPER 100: 26.08\n",
      "BEST PER 100: 25.07\n"
     ]
    }
   ],
   "source": [
    "time_ism(model_nism, [64, 128, 256, 512], 1000)"
   ]
  },
  {
   "cell_type": "markdown",
   "metadata": {},
   "source": [
    "### BPNet (2000)"
   ]
  },
  {
   "cell_type": "code",
   "execution_count": 6,
   "metadata": {},
   "outputs": [],
   "source": [
    "model = bpnet_model(seqlen=2000, num_dilated_convs=9)"
   ]
  },
  {
   "cell_type": "code",
   "execution_count": 7,
   "metadata": {},
   "outputs": [],
   "source": [
    "model_fism = fastISM.FastISM(model, test_correctness=False)"
   ]
  },
  {
   "cell_type": "code",
   "execution_count": 8,
   "metadata": {},
   "outputs": [
    {
     "name": "stdout",
     "output_type": "stream",
     "text": [
      "BATCH: 64\tTIME: 94.22\tPER 100: 147.22\n",
      "BATCH: 128\tTIME: 99.83\tPER 100: 77.99\n",
      "BATCH: 256\tTIME: 125.23\tPER 100: 48.92\n",
      "BATCH: 450\tTIME: 176.97\tPER 100: 39.33\n",
      "BEST PER 100: 39.33\n"
     ]
    }
   ],
   "source": [
    "time_ism(model_fism, [64, 128, 256, 450], 2000)"
   ]
  },
  {
   "cell_type": "code",
   "execution_count": 10,
   "metadata": {},
   "outputs": [],
   "source": [
    "model_nism = fastISM.NaiveISM(model)"
   ]
  },
  {
   "cell_type": "code",
   "execution_count": 11,
   "metadata": {},
   "outputs": [
    {
     "name": "stdout",
     "output_type": "stream",
     "text": [
      "BATCH: 64\tTIME: 65.18\tPER 100: 101.84\n",
      "BATCH: 128\tTIME: 126.29\tPER 100: 98.67\n",
      "BATCH: 256\tTIME: 255.19\tPER 100: 99.68\n",
      "BATCH: 512\tTIME: 541.11\tPER 100: 105.69\n",
      "BEST PER 100: 98.67\n"
     ]
    }
   ],
   "source": [
    "time_ism(model_nism, [64, 128, 256, 512], 2000)"
   ]
  },
  {
   "cell_type": "code",
   "execution_count": null,
   "metadata": {},
   "outputs": [],
   "source": []
  }
 ],
 "metadata": {
  "kernelspec": {
   "display_name": "Python 3",
   "language": "python",
   "name": "python3"
  },
  "language_info": {
   "codemirror_mode": {
    "name": "ipython",
    "version": 3
   },
   "file_extension": ".py",
   "mimetype": "text/x-python",
   "name": "python",
   "nbconvert_exporter": "python",
   "pygments_lexer": "ipython3",
   "version": "3.7.8"
  }
 },
 "nbformat": 4,
 "nbformat_minor": 4
}
