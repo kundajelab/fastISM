{
 "cells": [
  {
   "cell_type": "code",
   "execution_count": 1,
   "id": "846a3dd3-3a20-4727-946c-0b831d996094",
   "metadata": {},
   "outputs": [],
   "source": [
    "import tensorflow as tf\n",
    "from tensorflow import keras\n",
    "import numpy as np\n",
    "import time"
   ]
  },
  {
   "cell_type": "code",
   "execution_count": 2,
   "id": "c14668a5-a470-438b-b041-d56db2edba4d",
   "metadata": {},
   "outputs": [],
   "source": [
    "import sys\n",
    "sys.path.append(\"../\")\n",
    "import fastISM"
   ]
  },
  {
   "cell_type": "code",
   "execution_count": 3,
   "id": "703cce33-9e59-4ab5-a925-e2df46d5e050",
   "metadata": {},
   "outputs": [
    {
     "name": "stdout",
     "output_type": "stream",
     "text": [
      "Mon Jan 31 17:37:20 2022       \n",
      "+-----------------------------------------------------------------------------+\n",
      "| NVIDIA-SMI 460.73.01    Driver Version: 460.73.01    CUDA Version: 11.2     |\n",
      "|-------------------------------+----------------------+----------------------+\n",
      "| GPU  Name        Persistence-M| Bus-Id        Disp.A | Volatile Uncorr. ECC |\n",
      "| Fan  Temp  Perf  Pwr:Usage/Cap|         Memory-Usage | GPU-Util  Compute M. |\n",
      "|                               |                      |               MIG M. |\n",
      "|===============================+======================+======================|\n",
      "|   0  A100-SXM4-40GB      Off  | 00000000:00:04.0 Off |                    0 |\n",
      "| N/A   34C    P0    50W / 400W |      0MiB / 40536MiB |      0%      Default |\n",
      "|                               |                      |             Disabled |\n",
      "+-------------------------------+----------------------+----------------------+\n",
      "                                                                               \n",
      "+-----------------------------------------------------------------------------+\n",
      "| Processes:                                                                  |\n",
      "|  GPU   GI   CI        PID   Type   Process name                  GPU Memory |\n",
      "|        ID   ID                                                   Usage      |\n",
      "|=============================================================================|\n",
      "|  No running processes found                                                 |\n",
      "+-----------------------------------------------------------------------------+\n"
     ]
    }
   ],
   "source": [
    "!nvidia-smi"
   ]
  },
  {
   "cell_type": "code",
   "execution_count": 4,
   "id": "243c2dfd-9130-4bb0-a2ce-bb72c6c345ce",
   "metadata": {},
   "outputs": [
    {
     "name": "stdout",
     "output_type": "stream",
     "text": [
      "GPU 0: A100-SXM4-40GB (UUID: GPU-27107bad-326f-92f9-7edd-df3591f33254)\n"
     ]
    }
   ],
   "source": [
    "!nvidia-smi -L"
   ]
  },
  {
   "cell_type": "code",
   "execution_count": 5,
   "id": "64e8238a-4cc5-4251-8446-73b8bd36219d",
   "metadata": {},
   "outputs": [
    {
     "name": "stdout",
     "output_type": "stream",
     "text": [
      "nvcc: NVIDIA (R) Cuda compiler driver\n",
      "Copyright (c) 2005-2021 NVIDIA Corporation\n",
      "Built on Mon_May__3_19:15:13_PDT_2021\n",
      "Cuda compilation tools, release 11.3, V11.3.109\n",
      "Build cuda_11.3.r11.3/compiler.29920130_0\n"
     ]
    }
   ],
   "source": [
    "!nvcc --version"
   ]
  },
  {
   "cell_type": "code",
   "execution_count": 11,
   "id": "6efef383-ab4b-4661-89f5-554ffbeb33a7",
   "metadata": {},
   "outputs": [
    {
     "name": "stdout",
     "output_type": "stream",
     "text": [
      "#define CUDNN_MAJOR 8\n",
      "#define CUDNN_MINOR 2\n",
      "#define CUDNN_PATCHLEVEL 0\n",
      "--\n",
      "#define CUDNN_VERSION (CUDNN_MAJOR * 1000 + CUDNN_MINOR * 100 + CUDNN_PATCHLEVEL)\n",
      "\n",
      "#endif /* CUDNN_VERSION_H */\n"
     ]
    }
   ],
   "source": [
    "!cat /usr/local/cuda/include/cudnn_version.h | grep CUDNN_MAJOR -A 2"
   ]
  },
  {
   "cell_type": "code",
   "execution_count": 6,
   "id": "2b8c98e7-07f4-4c99-87e5-d33c54acaf6f",
   "metadata": {},
   "outputs": [],
   "source": [
    "# get test seqs (randomly sampled from hg38 chr1-22)\n",
    "# !wget http://mitra.stanford.edu/kundaje/surag/fastISM/test_long.seq.npy"
   ]
  },
  {
   "cell_type": "code",
   "execution_count": 12,
   "id": "166f7e92-cb0f-4e0d-9bba-e23d2b9fafe7",
   "metadata": {},
   "outputs": [
    {
     "data": {
      "text/plain": [
       "(100, 1179648, 4)"
      ]
     },
     "execution_count": 12,
     "metadata": {},
     "output_type": "execute_result"
    }
   ],
   "source": [
    "seqs = np.load(\"test_long.seq.npy\")\n",
    "seqs = np.hstack([seqs,seqs,seqs,seqs,seqs,seqs])\n",
    "seqs.shape"
   ]
  },
  {
   "cell_type": "code",
   "execution_count": null,
   "id": "5792702f-01dc-40bc-9065-9fcc9b11c386",
   "metadata": {},
   "outputs": [],
   "source": []
  },
  {
   "cell_type": "code",
   "execution_count": 13,
   "id": "ca12cb0f-f29c-4d2c-927c-f55a2005c425",
   "metadata": {},
   "outputs": [],
   "source": [
    "def time_ism(ism_model, batch_sizes, seqlen):\n",
    "    times = []\n",
    "    per_100 = []\n",
    "    for b in batch_sizes:\n",
    "\n",
    "        # dry run -- required as first batch slower for setting up\n",
    "        #            and variable batch sizes (due to varying number\n",
    "        #            of seqs that need to be mutated at a position) \n",
    "        #            also slows down first call\n",
    "        # x = np.random.random((b,seqlen,4))\n",
    "        x = seqs[:b, :seqlen]        \n",
    "        x = tf.constant(x, dtype=ism_model.model.inputs[0].dtype)\n",
    "        o = ism_model(x, [0,0,0,1])\n",
    "        \n",
    "        t = time.time()\n",
    "        x = tf.constant(x, dtype=ism_model.model.inputs[0].dtype)\n",
    "        \n",
    "        # NOTE: computations are only performed at those positions\n",
    "        # at which the existing base != replace_with\n",
    "        del o\n",
    "        o = ism_model(x, replace_with=[0,0,0,1])\n",
    "        del o\n",
    "        o = ism_model(x, replace_with=[0,0,1,0])\n",
    "        del o\n",
    "        o = ism_model(x, replace_with=[0,1,0,0])\n",
    "        del o\n",
    "        o = ism_model(x, replace_with=[1,0,0,0])\n",
    "        del o\n",
    "        \n",
    "        times.append(time.time()-t)\n",
    "        \n",
    "        per_100.append((times[-1]/b)*100)\n",
    "        print(\"BATCH: {}\\tTIME: {:.2f}\\tPER 100: {:.2f}\".format(b, times[-1], (times[-1]/b)*100))\n",
    "    \n",
    "    print(\"BEST PER 100: {:.2f}\".format(min(per_100)))"
   ]
  },
  {
   "cell_type": "code",
   "execution_count": null,
   "id": "ba07f636-e513-4cd8-b6e5-078e82af6c8d",
   "metadata": {},
   "outputs": [],
   "source": []
  },
  {
   "cell_type": "code",
   "execution_count": 14,
   "id": "7e3b0bb0-f1b0-4797-a0a7-6dbc1f357902",
   "metadata": {},
   "outputs": [],
   "source": [
    "class OneToTwo(keras.layers.Layer):\n",
    "    ''' Transform 1d to 2d with i,j vectors operated on.'''\n",
    "    def __init__(self, seq_len, features, operation='mean', **kwargs):\n",
    "        super(OneToTwo, self).__init__()\n",
    "        self.operation = operation.lower()\n",
    "        self.seq_len = seq_len\n",
    "        self.features = features\n",
    "        valid_operations = ['concat','mean','max','multipy','multiply1']\n",
    "        assert self.operation in valid_operations\n",
    "\n",
    "    def call(self, oned):\n",
    "        # _, seq_len, features = oned.shape\n",
    "  \n",
    "        twod1 = tf.tile(oned, [1, self.seq_len, 1])\n",
    "        twod1 = tf.reshape(twod1, [-1, self.seq_len, self.seq_len, self.features])\n",
    "        twod2 = tf.transpose(twod1, [0,2,1,3])\n",
    "  \n",
    "        if self.operation == 'concat':\n",
    "            twod  = tf.concat([twod1, twod2], axis=-1)\n",
    "        \n",
    "        elif self.operation == 'multiply':\n",
    "            twod  = tf.multiply(twod1, twod2)\n",
    "        \n",
    "        elif self.operation == 'multiply1':\n",
    "            twod = tf.multiply(twod1+1, twod2+1) - 1\n",
    "        \n",
    "        else:\n",
    "            twod1 = tf.expand_dims(twod1, axis=-1)\n",
    "            twod2 = tf.expand_dims(twod2, axis=-1)\n",
    "            twod  = tf.concat([twod1, twod2], axis=-1)\n",
    "        \n",
    "            if self.operation == 'mean':\n",
    "                twod = tf.reduce_mean(twod, axis=-1)\n",
    "        \n",
    "            elif self.operation == 'max':\n",
    "                twod = tf.reduce_max(twod, axis=-1)\n",
    "        \n",
    "        return twod\n",
    "\n",
    "    def get_config(self):\n",
    "        config = super().get_config().copy()\n",
    "        config['operation'] = self.operation\n",
    "        config['seq_len'] = self.seq_len\n",
    "        config['features'] = self.features\n",
    "        return config\n",
    "    \n",
    "class Symmetrize2D(keras.layers.Layer):\n",
    "    '''Take the average of a matrix and its transpose to enforce symmetry.'''\n",
    "    def __init__(self, **kwargs):\n",
    "        super(Symmetrize2D, self).__init__()\n",
    "    def call(self, x):\n",
    "        x_t = tf.transpose(x,[0,2,1,3])\n",
    "        x_sym = (x+x_t)/2\n",
    "        return x_sym\n",
    "    \n",
    "class UpperTri(tf.keras.layers.Layer):\n",
    "    ''' Unroll matrix to its upper triangular portion.'''\n",
    "    def __init__(self, seq_len, output_dim, diagonal_offset=2, **kwargs):\n",
    "        super(UpperTri, self).__init__()\n",
    "        self.diagonal_offset = diagonal_offset\n",
    "        self.seq_len = seq_len\n",
    "        self.output_dim = output_dim\n",
    "\n",
    "    def call(self, inputs):\n",
    "        triu_tup = np.triu_indices(self.seq_len, self.diagonal_offset)\n",
    "        triu_index = list(triu_tup[0]+ self.seq_len*triu_tup[1])\n",
    "        unroll_repr = tf.reshape(inputs, [-1, self.seq_len**2, self.output_dim])\n",
    "        return tf.gather(unroll_repr, triu_index, axis=1)\n",
    "\n",
    "    def get_config(self):\n",
    "        config = super().get_config().copy()\n",
    "        config['diagonal_offset'] = self.diagonal_offset\n",
    "        config['seq_len'] = self.seq_len\n",
    "        config['output_dim'] = self.output_dim\n",
    "        return config\n"
   ]
  },
  {
   "cell_type": "code",
   "execution_count": 33,
   "id": "ec3a8376-5b19-4ed3-839b-3cc8b9a1de49",
   "metadata": {},
   "outputs": [],
   "source": [
    "def akita(inlen=2**20, out_dim=5):\n",
    "    inp = keras.layers.Input((inlen,4))\n",
    "    \n",
    "    x = keras.layers.Conv1D(96, 11, padding='same')(inp)\n",
    "    x = keras.layers.BatchNormalization()(x)\n",
    "    x = keras.layers.MaxPooling1D(2)(x)\n",
    "    \n",
    "    for i in range(10):\n",
    "        x = keras.layers.ReLU()(x)\n",
    "        x = keras.layers.Conv1D(96, 5, padding='same')(x)\n",
    "        x = keras.layers.BatchNormalization()(x)\n",
    "        x = keras.layers.MaxPooling1D(2)(x)\n",
    "\n",
    "    r=1\n",
    "    for i in range(8):        \n",
    "        y = keras.layers.ReLU()(x)\n",
    "        y = keras.layers.Conv1D(48, 3, padding='same', dilation_rate=int(np.round(r)))(y)\n",
    "        y = keras.layers.BatchNormalization()(y)\n",
    "        y = keras.layers.ReLU()(y)\n",
    "        y = keras.layers.Conv1D(96, 1, padding='same')(y)\n",
    "        y = keras.layers.BatchNormalization()(y)\n",
    "        x = keras.layers.Add()([x,y])\n",
    "        r*=1.75\n",
    "\n",
    "    # differs from original- uses 65 instead of 64. An extra layer is concatted in original.\n",
    "    x = keras.layers.ReLU()(x)\n",
    "    x = keras.layers.Conv1D(65, 5, padding='same')(x)\n",
    "    \n",
    "    x = OneToTwo(512, 65)(x)\n",
    "    \n",
    "    x = keras.layers.ReLU()(x)\n",
    "    x = keras.layers.Conv2D(48, 3, padding='same')(x)\n",
    "    x = Symmetrize2D()(x)\n",
    "    \n",
    "    r=1\n",
    "    for i in range(6):        \n",
    "        y = keras.layers.ReLU()(x)\n",
    "        y = keras.layers.Conv2D(24, 3, padding='same', dilation_rate=int(np.round(r)))(y)\n",
    "        y = keras.layers.BatchNormalization()(y)\n",
    "        y = keras.layers.ReLU()(y)\n",
    "        y = keras.layers.Conv2D(48, 1, padding='same')(y)\n",
    "        y = keras.layers.BatchNormalization()(y)\n",
    "        x = keras.layers.Add()([x,y])\n",
    "        x = Symmetrize2D()(x)\n",
    "        r*=1.75\n",
    "\n",
    "    x = keras.layers.Cropping2D(32)(x)\n",
    "    x = UpperTri(448, 48)(x)\n",
    "    x = keras.layers.Dense(5)(x)\n",
    "    \n",
    "    m = keras.Model(inputs=inp, outputs=x)\n",
    "    return m"
   ]
  },
  {
   "cell_type": "markdown",
   "id": "2e42c2a7-94e7-47a8-a61c-91fea1916487",
   "metadata": {},
   "source": [
    "### Full Akita"
   ]
  },
  {
   "cell_type": "code",
   "execution_count": 34,
   "id": "821e0baf-2f61-4220-8364-fcdc2f1c1007",
   "metadata": {},
   "outputs": [],
   "source": [
    "model = akita()"
   ]
  },
  {
   "cell_type": "code",
   "execution_count": 35,
   "id": "f049ee7d-a319-4444-9604-663e590b31e3",
   "metadata": {},
   "outputs": [
    {
     "data": {
      "text/plain": [
       "754438"
      ]
     },
     "execution_count": 35,
     "metadata": {},
     "output_type": "execute_result"
    }
   ],
   "source": [
    "model.count_params()"
   ]
  },
  {
   "cell_type": "code",
   "execution_count": 13,
   "id": "67f77dcf-10cf-4a7d-a900-c599086a592f",
   "metadata": {},
   "outputs": [],
   "source": [
    "# tf.keras.utils.plot_model(model, \"./lol.png\")"
   ]
  },
  {
   "cell_type": "code",
   "execution_count": null,
   "id": "39c5f57f-cea4-4a38-871d-10c52ac2bb35",
   "metadata": {},
   "outputs": [],
   "source": []
  },
  {
   "cell_type": "code",
   "execution_count": 27,
   "id": "c0775aae-aa17-44e1-b601-1ec2d4e09197",
   "metadata": {},
   "outputs": [],
   "source": [
    "loltf = tf.constant(np.random.random((100,2**20,4)), dtype=model.input.dtype)"
   ]
  },
  {
   "cell_type": "code",
   "execution_count": 19,
   "id": "b86e51be-54e3-4377-9c03-b36a7ec4526b",
   "metadata": {},
   "outputs": [
    {
     "name": "stderr",
     "output_type": "stream",
     "text": [
      "2022-01-31 17:39:26.868528: I tensorflow/stream_executor/cuda/cuda_dnn.cc:366] Loaded cuDNN version 8200\n",
      "2022-01-31 17:39:28.320158: W tensorflow/core/kernels/gpu_utils.cc:49] Failed to allocate memory for convolution redzone checking; skipping this check. This is benign and only means that we won't check cudnn for out-of-bounds reads and writes. This message will only be printed once.\n",
      "2022-01-31 17:39:31.247049: I tensorflow/stream_executor/cuda/cuda_blas.cc:1774] TensorFloat-32 will be used for the matrix multiplication. This will only be logged once.\n"
     ]
    },
    {
     "data": {
      "text/plain": [
       "(21, 99681, 5)"
      ]
     },
     "execution_count": 19,
     "metadata": {},
     "output_type": "execute_result"
    }
   ],
   "source": [
    "model(loltf[:21], training=False).numpy().shape"
   ]
  },
  {
   "cell_type": "code",
   "execution_count": null,
   "id": "57cca8d8-9314-429b-aced-e1b9a3d3b729",
   "metadata": {},
   "outputs": [],
   "source": []
  },
  {
   "cell_type": "code",
   "execution_count": null,
   "id": "f7fef970-da61-4dbc-b4e7-214d394428f2",
   "metadata": {},
   "outputs": [],
   "source": []
  },
  {
   "cell_type": "code",
   "execution_count": 21,
   "id": "864f7707-6282-428c-820b-850a0fc5d540",
   "metadata": {},
   "outputs": [
    {
     "name": "stdout",
     "output_type": "stream",
     "text": [
      "196 ms ± 196 µs per loop (mean ± std. dev. of 7 runs, 10 loops each)\n"
     ]
    }
   ],
   "source": [
    "%timeit model(loltf[:7], training=False).numpy().shape"
   ]
  },
  {
   "cell_type": "code",
   "execution_count": 18,
   "id": "e4629bb8-817e-49c1-8aa9-60ab5aaee2c2",
   "metadata": {},
   "outputs": [
    {
     "name": "stdout",
     "output_type": "stream",
     "text": [
      "416 ms ± 1.2 ms per loop (mean ± std. dev. of 7 runs, 1 loop each)\n"
     ]
    }
   ],
   "source": [
    "%timeit model(loltf[:14], training=False).numpy().shape"
   ]
  },
  {
   "cell_type": "code",
   "execution_count": 19,
   "id": "02e65655-9363-4a53-8997-67dc21879bbd",
   "metadata": {},
   "outputs": [
    {
     "name": "stdout",
     "output_type": "stream",
     "text": [
      "613 ms ± 356 µs per loop (mean ± std. dev. of 7 runs, 1 loop each)\n"
     ]
    }
   ],
   "source": [
    "%timeit model(loltf[:21], training=False).numpy().shape"
   ]
  },
  {
   "cell_type": "code",
   "execution_count": null,
   "id": "91ea15d7-0dd4-4978-9939-738dbc5c15ac",
   "metadata": {},
   "outputs": [],
   "source": []
  },
  {
   "cell_type": "markdown",
   "id": "93e05355-1b6c-4ac7-b1bf-124f568627d6",
   "metadata": {},
   "source": [
    "**Scoring 100bp**"
   ]
  },
  {
   "cell_type": "code",
   "execution_count": 17,
   "id": "fde87a3a-8a51-4f76-9f37-39630ace06cd",
   "metadata": {},
   "outputs": [],
   "source": [
    "fast_ism_model = fastISM.FastISM(model, \n",
    "                                 early_stop_layers=['conv1d_11'], # stop before first dilated convs\n",
    "                                 test_correctness=False, \n",
    "                                 change_ranges=[(x,x+1) for x in range(model.input_shape[1]//2-50, model.input_shape[1]//2 + 50)])"
   ]
  },
  {
   "cell_type": "code",
   "execution_count": 19,
   "id": "db42547f-a2c9-47ca-9670-7ba42755c718",
   "metadata": {},
   "outputs": [
    {
     "name": "stdout",
     "output_type": "stream",
     "text": [
      "BATCH: 21\tTIME: 140.00\tPER 100: 666.65\n",
      "BEST PER 100: 666.65\n"
     ]
    }
   ],
   "source": [
    "time_ism(fast_ism_model, [21], 2**20)"
   ]
  },
  {
   "cell_type": "markdown",
   "id": "e0f122c3-d127-4f3f-8c52-3ca6d6e07e93",
   "metadata": {},
   "source": [
    "**Scoring 1000bp**"
   ]
  },
  {
   "cell_type": "code",
   "execution_count": 17,
   "id": "34641fe0-9328-4251-a992-19264ce067a8",
   "metadata": {},
   "outputs": [],
   "source": [
    "fast_ism_model = fastISM.FastISM(model, \n",
    "                                 early_stop_layers=['conv1d_11'], # stop before first dilated convs\n",
    "                                 test_correctness=False, \n",
    "                                 change_ranges=[(x,x+1) for x in range(model.input_shape[1]//2-500, model.input_shape[1]//2 + 500)])"
   ]
  },
  {
   "cell_type": "code",
   "execution_count": 18,
   "id": "5d2f4e86-af28-49f3-9ca5-7b42648ee3c8",
   "metadata": {},
   "outputs": [
    {
     "name": "stdout",
     "output_type": "stream",
     "text": [
      "BATCH: 21\tTIME: 1357.26\tPER 100: 6463.16\n",
      "BEST PER 100: 6463.16\n"
     ]
    }
   ],
   "source": [
    "time_ism(fast_ism_model, [21], 2**20)"
   ]
  },
  {
   "cell_type": "code",
   "execution_count": null,
   "id": "212cda0b-9e7b-4e70-bd97-46e248e49248",
   "metadata": {},
   "outputs": [],
   "source": []
  },
  {
   "cell_type": "markdown",
   "id": "b5a5af80-c794-40dc-aea3-65a5f19e63b7",
   "metadata": {},
   "source": [
    "**Scoring 100bp**"
   ]
  },
  {
   "cell_type": "code",
   "execution_count": 16,
   "id": "7694e10e-e501-48d9-87ae-ac44dfe6c7b4",
   "metadata": {},
   "outputs": [],
   "source": [
    "naive_ism_model = fastISM.NaiveISM(model, \n",
    "                                   change_ranges=[(x,x+1) for x in range(model.input_shape[1]//2-50, model.input_shape[1]//2 + 50)])"
   ]
  },
  {
   "cell_type": "code",
   "execution_count": 17,
   "id": "7a52165c-c77b-49e4-8c1f-09203617417d",
   "metadata": {},
   "outputs": [
    {
     "name": "stdout",
     "output_type": "stream",
     "text": [
      "BATCH: 8\tTIME: 73.84\tPER 100: 922.97\n",
      "BATCH: 10\tTIME: 87.95\tPER 100: 879.50\n",
      "BATCH: 12\tTIME: 106.67\tPER 100: 888.92\n",
      "BEST PER 100: 879.50\n"
     ]
    }
   ],
   "source": [
    "time_ism(naive_ism_model, [8,10,12], 2**20)"
   ]
  },
  {
   "cell_type": "markdown",
   "id": "2d90cc21-faf7-4175-9d3b-01bc1a55238d",
   "metadata": {},
   "source": [
    "**Scoring 1000bp**"
   ]
  },
  {
   "cell_type": "code",
   "execution_count": 18,
   "id": "26fc8ae8-4fe7-47e4-beab-2af8eb37fe00",
   "metadata": {},
   "outputs": [],
   "source": [
    "naive_ism_model = fastISM.NaiveISM(model, \n",
    "                                   change_ranges=[(x,x+1) for x in range(model.input_shape[1]//2-500, model.input_shape[1]//2 + 500)])"
   ]
  },
  {
   "cell_type": "code",
   "execution_count": 19,
   "id": "4e9d936d-5bd9-4774-b6bc-ce4ed3e8c736",
   "metadata": {},
   "outputs": [
    {
     "name": "stdout",
     "output_type": "stream",
     "text": [
      "BATCH: 10\tTIME: 870.05\tPER 100: 8700.52\n",
      "BEST PER 100: 8700.52\n"
     ]
    }
   ],
   "source": [
    "time_ism(naive_ism_model, [10], 2**20)"
   ]
  },
  {
   "cell_type": "code",
   "execution_count": null,
   "id": "18ded012-f861-402d-8387-eb272397a685",
   "metadata": {},
   "outputs": [],
   "source": []
  },
  {
   "cell_type": "markdown",
   "id": "5bca8e23-e392-4202-a236-d1ee351d58ac",
   "metadata": {},
   "source": [
    "---"
   ]
  }
 ],
 "metadata": {
  "kernelspec": {
   "display_name": "Python 3",
   "language": "python",
   "name": "python3"
  },
  "language_info": {
   "codemirror_mode": {
    "name": "ipython",
    "version": 3
   },
   "file_extension": ".py",
   "mimetype": "text/x-python",
   "name": "python",
   "nbconvert_exporter": "python",
   "pygments_lexer": "ipython3",
   "version": "3.7.12"
  }
 },
 "nbformat": 4,
 "nbformat_minor": 5
}
